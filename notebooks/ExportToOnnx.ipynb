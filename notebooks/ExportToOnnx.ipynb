{
 "cells": [
  {
   "cell_type": "markdown",
   "metadata": {},
   "source": [
    "# Leverage Power of Machine Learning with ONNX\n",
    "\n",
    "How to install .NET in Jupyter https://github.com/dotnet/interactive"
   ]
  },
  {
   "cell_type": "markdown",
   "metadata": {},
   "source": [
    "## Instal Nuget Packages"
   ]
  },
  {
   "cell_type": "code",
   "execution_count": 2,
   "metadata": {},
   "outputs": [],
   "source": [
    "#r \"nuget:Microsoft.ML,1.5.2\"\n",
    "#r \"nuget:Microsoft.Data.Analysis,0.4.0\"\n",
    "#r \"nuget:Microsoft.ML.OnnxTransformer,1.5.2\"\n",
    "#r \"nuget:Microsoft.ML.OnnxConverter,0.17.2\"\n"
   ]
  },
  {
   "cell_type": "code",
   "execution_count": 3,
   "metadata": {},
   "outputs": [],
   "source": [
    "using System.IO;\n",
    "using Microsoft.Data.Analysis;\n",
    "using XPlot.Plotly;"
   ]
  },
  {
   "cell_type": "code",
   "execution_count": 4,
   "metadata": {},
   "outputs": [],
   "source": [
    "using Microsoft.AspNetCore.Html;\n",
    "Formatter.Register<DataFrame>((df, writer) =>\n",
    "{\n",
    "    var headers = new List<IHtmlContent>();\n",
    "    headers.Add(th(i(\"index\")));\n",
    "    headers.AddRange(df.Columns.Select(c => (IHtmlContent) th(c.Name)));\n",
    "    var rows = new List<List<IHtmlContent>>();\n",
    "    var take = 20;\n",
    "    for (var i = 0; i < Math.Min(take, df.Rows.Count); i++)\n",
    "    {\n",
    "        var cells = new List<IHtmlContent>();\n",
    "        cells.Add(td(i));\n",
    "        foreach (var obj in df.Rows[i])\n",
    "        {\n",
    "            cells.Add(td(obj));\n",
    "        }\n",
    "        rows.Add(cells);\n",
    "    }\n",
    "\n",
    "    var t = table(\n",
    "        thead(\n",
    "            headers),\n",
    "        tbody(\n",
    "            rows.Select(\n",
    "                r => tr(r))));\n",
    "\n",
    "    writer.Write(t);\n",
    "}, \"text/html\");"
   ]
  },
  {
   "cell_type": "markdown",
   "metadata": {},
   "source": [
    "## Load Data"
   ]
  },
  {
   "cell_type": "code",
   "execution_count": 5,
   "metadata": {},
   "outputs": [],
   "source": [
    "var data = DataFrame.LoadCsv(\"./SalaryData.csv\");"
   ]
  },
  {
   "cell_type": "code",
   "execution_count": 6,
   "metadata": {},
   "outputs": [
    {
     "data": {
      "text/html": [
       "<table><thead><th><i>index</i></th><th>yearsExperience</th><th>salary</th></thead><tbody><tr><td><div class=\"dni-plaintext\">0</div></td><td><div class=\"dni-plaintext\">1.1</div></td><td><div class=\"dni-plaintext\">39343</div></td></tr><tr><td><div class=\"dni-plaintext\">1</div></td><td><div class=\"dni-plaintext\">1.3</div></td><td><div class=\"dni-plaintext\">46205</div></td></tr><tr><td><div class=\"dni-plaintext\">2</div></td><td><div class=\"dni-plaintext\">1.5</div></td><td><div class=\"dni-plaintext\">37731</div></td></tr><tr><td><div class=\"dni-plaintext\">3</div></td><td><div class=\"dni-plaintext\">2</div></td><td><div class=\"dni-plaintext\">43525</div></td></tr><tr><td><div class=\"dni-plaintext\">4</div></td><td><div class=\"dni-plaintext\">2.2</div></td><td><div class=\"dni-plaintext\">39891</div></td></tr><tr><td><div class=\"dni-plaintext\">5</div></td><td><div class=\"dni-plaintext\">2.9</div></td><td><div class=\"dni-plaintext\">56642</div></td></tr><tr><td><div class=\"dni-plaintext\">6</div></td><td><div class=\"dni-plaintext\">3</div></td><td><div class=\"dni-plaintext\">60150</div></td></tr><tr><td><div class=\"dni-plaintext\">7</div></td><td><div class=\"dni-plaintext\">3.2</div></td><td><div class=\"dni-plaintext\">54445</div></td></tr><tr><td><div class=\"dni-plaintext\">8</div></td><td><div class=\"dni-plaintext\">3.2</div></td><td><div class=\"dni-plaintext\">64445</div></td></tr><tr><td><div class=\"dni-plaintext\">9</div></td><td><div class=\"dni-plaintext\">3.7</div></td><td><div class=\"dni-plaintext\">57189</div></td></tr><tr><td><div class=\"dni-plaintext\">10</div></td><td><div class=\"dni-plaintext\">3.9</div></td><td><div class=\"dni-plaintext\">63218</div></td></tr><tr><td><div class=\"dni-plaintext\">11</div></td><td><div class=\"dni-plaintext\">4</div></td><td><div class=\"dni-plaintext\">55794</div></td></tr><tr><td><div class=\"dni-plaintext\">12</div></td><td><div class=\"dni-plaintext\">4</div></td><td><div class=\"dni-plaintext\">56957</div></td></tr><tr><td><div class=\"dni-plaintext\">13</div></td><td><div class=\"dni-plaintext\">4.1</div></td><td><div class=\"dni-plaintext\">57081</div></td></tr><tr><td><div class=\"dni-plaintext\">14</div></td><td><div class=\"dni-plaintext\">4.5</div></td><td><div class=\"dni-plaintext\">61111</div></td></tr><tr><td><div class=\"dni-plaintext\">15</div></td><td><div class=\"dni-plaintext\">4.9</div></td><td><div class=\"dni-plaintext\">67938</div></td></tr><tr><td><div class=\"dni-plaintext\">16</div></td><td><div class=\"dni-plaintext\">5.1</div></td><td><div class=\"dni-plaintext\">66029</div></td></tr><tr><td><div class=\"dni-plaintext\">17</div></td><td><div class=\"dni-plaintext\">5.3</div></td><td><div class=\"dni-plaintext\">83088</div></td></tr><tr><td><div class=\"dni-plaintext\">18</div></td><td><div class=\"dni-plaintext\">5.9</div></td><td><div class=\"dni-plaintext\">81363</div></td></tr><tr><td><div class=\"dni-plaintext\">19</div></td><td><div class=\"dni-plaintext\">6</div></td><td><div class=\"dni-plaintext\">93940</div></td></tr></tbody></table>"
      ]
     },
     "execution_count": 6,
     "metadata": {},
     "output_type": "execute_result"
    }
   ],
   "source": [
    "data"
   ]
  },
  {
   "cell_type": "code",
   "execution_count": 7,
   "metadata": {},
   "outputs": [
    {
     "data": {
      "text/html": [
       "<table><thead><th><i>index</i></th><th>Description</th><th>yearsExperience</th><th>salary</th></thead><tbody><tr><td><div class=\"dni-plaintext\">0</div></td><td>Length (excluding null values)</td><td><div class=\"dni-plaintext\">30</div></td><td><div class=\"dni-plaintext\">30</div></td></tr><tr><td><div class=\"dni-plaintext\">1</div></td><td>Max</td><td><div class=\"dni-plaintext\">10.5</div></td><td><div class=\"dni-plaintext\">122391</div></td></tr><tr><td><div class=\"dni-plaintext\">2</div></td><td>Min</td><td><div class=\"dni-plaintext\">1.1</div></td><td><div class=\"dni-plaintext\">37731</div></td></tr><tr><td><div class=\"dni-plaintext\">3</div></td><td>Mean</td><td><div class=\"dni-plaintext\">5.3133335</div></td><td><div class=\"dni-plaintext\">76003</div></td></tr></tbody></table>"
      ]
     },
     "execution_count": 7,
     "metadata": {},
     "output_type": "execute_result"
    }
   ],
   "source": [
    "data.Description()"
   ]
  },
  {
   "cell_type": "code",
   "execution_count": 8,
   "metadata": {},
   "outputs": [
    {
     "data": {
      "text/html": [
       "<div class=\"dni-plaintext\">27</div>"
      ]
     },
     "metadata": {},
     "output_type": "display_data"
    },
    {
     "data": {
      "text/html": [
       "<div class=\"dni-plaintext\">3</div>"
      ]
     },
     "metadata": {},
     "output_type": "display_data"
    }
   ],
   "source": [
    "static T[] Shuffle<T>(T[] array)\n",
    "{\n",
    "    Random rand = new Random();\n",
    "    for (int i = 0; i < array.Length; i++)\n",
    "    {\n",
    "        int r = i + rand.Next(array.Length - i);\n",
    "        T temp = array[r];\n",
    "        array[r] = array[i];\n",
    "        array[i] = temp;\n",
    "    }\n",
    "    return array;\n",
    "}\n",
    "\n",
    "int[] randomIndices = Shuffle(Enumerable.Range(0, (int)data.Rows.Count).ToArray());\n",
    "int testSize = (int)(data.Rows.Count * .1);\n",
    "int[] trainRows = randomIndices[testSize..];\n",
    "int[] testRows = randomIndices[..testSize];\n",
    "\n",
    "DataFrame data_train = data[trainRows];\n",
    "DataFrame data_test = data[testRows];\n",
    "\n",
    "display(data_train.Rows.Count);\n",
    "display(data_test.Rows.Count);"
   ]
  },
  {
   "cell_type": "markdown",
   "metadata": {},
   "source": [
    "## Use ML.NET\n",
    "To use ML.NET, need to create instance of MLContext."
   ]
  },
  {
   "cell_type": "code",
   "execution_count": 9,
   "metadata": {},
   "outputs": [],
   "source": [
    "using Microsoft.ML;"
   ]
  },
  {
   "cell_type": "code",
   "execution_count": 10,
   "metadata": {},
   "outputs": [],
   "source": [
    "var context = new MLContext();"
   ]
  },
  {
   "cell_type": "markdown",
   "metadata": {},
   "source": [
    "## Create Pipeline"
   ]
  },
  {
   "cell_type": "code",
   "execution_count": 11,
   "metadata": {},
   "outputs": [],
   "source": [
    "#pragma warning disable CS1701\n",
    "var pipeline = context.Transforms.Concatenate(\"Features\", \"yearsExperience\")\n",
    "                .Append(context.Regression.Trainers.Sdca(labelColumnName: \"salary\"));"
   ]
  },
  {
   "cell_type": "markdown",
   "metadata": {},
   "source": [
    "## Training"
   ]
  },
  {
   "cell_type": "code",
   "execution_count": 12,
   "metadata": {},
   "outputs": [],
   "source": [
    "ITransformer model = pipeline.Fit(data_train);"
   ]
  },
  {
   "cell_type": "markdown",
   "metadata": {},
   "source": [
    "## Evaluate"
   ]
  },
  {
   "cell_type": "code",
   "execution_count": 13,
   "metadata": {},
   "outputs": [],
   "source": [
    "var testResults = model.Transform(data_test);\n",
    "\n",
    "var metrics = context.Regression.Evaluate(testResults, labelColumnName: \"salary\", scoreColumnName: \"Score\");"
   ]
  },
  {
   "cell_type": "code",
   "execution_count": 14,
   "metadata": {},
   "outputs": [
    {
     "name": "stdout",
     "output_type": "stream",
     "text": [
      "*************************************************\n",
      "*       Metrics for regression model      \n",
      "*------------------------------------------------\n",
      "*       LossFn:        11076673.47\n",
      "*       R2 Score:      0.97\n",
      "*       Absolute loss: 2403.81\n",
      "*       Squared loss:  11076673.56\n",
      "*       RMS loss:      3328.16\n",
      "*************************************************\n"
     ]
    }
   ],
   "source": [
    "Console.WriteLine($\"*************************************************\");\n",
    "Console.WriteLine($\"*       Metrics for regression model      \");\n",
    "Console.WriteLine($\"*------------------------------------------------\");\n",
    "Console.WriteLine($\"*       LossFn:        {metrics.LossFunction:0.##}\");\n",
    "Console.WriteLine($\"*       R2 Score:      {metrics.RSquared:0.##}\");\n",
    "Console.WriteLine($\"*       Absolute loss: {metrics.MeanAbsoluteError:#.##}\");\n",
    "Console.WriteLine($\"*       Squared loss:  {metrics.MeanSquaredError:#.##}\");\n",
    "Console.WriteLine($\"*       RMS loss:      {metrics.RootMeanSquaredError:#.##}\");\n",
    "Console.WriteLine($\"*************************************************\");"
   ]
  },
  {
   "cell_type": "code",
   "execution_count": 15,
   "metadata": {},
   "outputs": [],
   "source": [
    "private static readonly string MODEL_NAME = \"model.onnx\";"
   ]
  },
  {
   "cell_type": "markdown",
   "metadata": {},
   "source": [
    "## Save ONNX Model"
   ]
  },
  {
   "cell_type": "code",
   "execution_count": 16,
   "metadata": {},
   "outputs": [],
   "source": [
    "using System.IO;\n",
    "\n",
    "using (var stream = File.Create(MODEL_NAME))\n",
    "{\n",
    "    context.Model.ConvertToOnnx(model, data, stream);\n",
    "}"
   ]
  },
  {
   "cell_type": "markdown",
   "metadata": {},
   "source": [
    "## Fill in Input Data\n",
    "\n",
    "![ONNX Netron Image](onnx-netron.PNG)"
   ]
  },
  {
   "cell_type": "markdown",
   "metadata": {},
   "source": [
    "### That's all folks!"
   ]
  }
 ],
 "metadata": {
  "kernelspec": {
   "display_name": ".NET (C#)",
   "language": "C#",
   "name": ".net-csharp"
  },
  "language_info": {
   "file_extension": ".cs",
   "mimetype": "text/x-csharp",
   "name": "C#",
   "pygments_lexer": "csharp",
   "version": "8.0"
  }
 },
 "nbformat": 4,
 "nbformat_minor": 4
}
