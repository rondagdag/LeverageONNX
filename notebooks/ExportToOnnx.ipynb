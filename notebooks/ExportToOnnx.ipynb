{
 "cells": [
  {
   "cell_type": "markdown",
   "source": [
    "# Leverage Power of Machine Learning with ONNX\n",
    "\n",
    "How to install .NET in Jupyter https://github.com/dotnet/interactive"
   ],
   "metadata": {}
  },
  {
   "cell_type": "markdown",
   "source": [
    "## Instal Nuget Packages"
   ],
   "metadata": {}
  },
  {
   "cell_type": "code",
   "execution_count": null,
   "source": [
    "#r \"nuget:Microsoft.ML,1.5.2\"\r\n",
    "#r \"nuget:Microsoft.Data.Analysis,0.4.0\"\r\n",
    "#r \"nuget: XPlot.Plotly, 4.0.3\"\r\n",
    "#r \"nuget:Microsoft.ML.OnnxTransformer,1.5.2\"\r\n",
    "#r \"nuget:Microsoft.ML.OnnxConverter,0.17.2\"\r\n"
   ],
   "outputs": [
    {
     "data": {
      "text/html": [
       "<div><div></div><div><strong>Installed Packages</strong><ul><li><span>fsharp.core, 4.7.2</span></li><li><span>XPlot.Plotly, 4.0.3</span></li></ul></div><div></div></div>"
      ]
     },
     "metadata": {},
     "output_type": "display_data"
    }
   ],
   "metadata": {
    "dotnet_interactive": {
     "language": "csharp"
    }
   }
  },
  {
   "cell_type": "code",
   "execution_count": null,
   "source": [
    "using System.IO;\r\n",
    "using Microsoft.Data.Analysis;\r\n",
    "using XPlot.Plotly;"
   ],
   "outputs": [],
   "metadata": {
    "dotnet_interactive": {
     "language": "csharp"
    }
   }
  },
  {
   "cell_type": "code",
   "execution_count": null,
   "source": [
    "using Microsoft.AspNetCore.Html;\r\n",
    "using Microsoft.DotNet.Interactive.Formatting;\r\n",
    "using static Microsoft.DotNet.Interactive.Formatting.PocketViewTags;\r\n",
    "Formatter.Register<DataFrame>((df, writer) =>\r\n",
    "{\r\n",
    "    var headers = new List<IHtmlContent>();\r\n",
    "    headers.Add(th(i(\"index\")));\r\n",
    "    headers.AddRange(df.Columns.Select(c => (IHtmlContent) th(c.Name)));\r\n",
    "    var rows = new List<List<IHtmlContent>>();\r\n",
    "    var take = 20;\r\n",
    "    for (var i = 0; i < Math.Min(take, df.Rows.Count); i++)\r\n",
    "    {\r\n",
    "        var cells = new List<IHtmlContent>();\r\n",
    "        cells.Add(td(i));\r\n",
    "        foreach (var obj in df.Rows[i])\r\n",
    "        {\r\n",
    "            cells.Add(td(obj));\r\n",
    "        }\r\n",
    "        rows.Add(cells);\r\n",
    "    }\r\n",
    "\r\n",
    "    var t = table(\r\n",
    "        thead(\r\n",
    "            headers),\r\n",
    "        tbody(\r\n",
    "            rows.Select(\r\n",
    "                r => tr(r))));\r\n",
    "\r\n",
    "    writer.Write(t);\r\n",
    "}, \"text/html\");"
   ],
   "outputs": [],
   "metadata": {
    "dotnet_interactive": {
     "language": "csharp"
    }
   }
  },
  {
   "cell_type": "markdown",
   "source": [
    "## Load Data"
   ],
   "metadata": {}
  },
  {
   "cell_type": "code",
   "execution_count": null,
   "source": [
    "var data = DataFrame.LoadCsv(\"./SalaryData.csv\");"
   ],
   "outputs": [],
   "metadata": {
    "dotnet_interactive": {
     "language": "csharp"
    }
   }
  },
  {
   "cell_type": "code",
   "execution_count": null,
   "source": [
    "data"
   ],
   "outputs": [
    {
     "data": {
      "text/html": [
       "<table><thead><th><i>index</i></th><th>yearsExperience</th><th>salary</th></thead><tbody><tr><td><div class=\"dni-plaintext\">0</div></td><td><div class=\"dni-plaintext\">1.1</div></td><td><div class=\"dni-plaintext\">39343</div></td></tr><tr><td><div class=\"dni-plaintext\">1</div></td><td><div class=\"dni-plaintext\">1.3</div></td><td><div class=\"dni-plaintext\">46205</div></td></tr><tr><td><div class=\"dni-plaintext\">2</div></td><td><div class=\"dni-plaintext\">1.5</div></td><td><div class=\"dni-plaintext\">37731</div></td></tr><tr><td><div class=\"dni-plaintext\">3</div></td><td><div class=\"dni-plaintext\">2</div></td><td><div class=\"dni-plaintext\">43525</div></td></tr><tr><td><div class=\"dni-plaintext\">4</div></td><td><div class=\"dni-plaintext\">2.2</div></td><td><div class=\"dni-plaintext\">39891</div></td></tr><tr><td><div class=\"dni-plaintext\">5</div></td><td><div class=\"dni-plaintext\">2.9</div></td><td><div class=\"dni-plaintext\">56642</div></td></tr><tr><td><div class=\"dni-plaintext\">6</div></td><td><div class=\"dni-plaintext\">3</div></td><td><div class=\"dni-plaintext\">60150</div></td></tr><tr><td><div class=\"dni-plaintext\">7</div></td><td><div class=\"dni-plaintext\">3.2</div></td><td><div class=\"dni-plaintext\">54445</div></td></tr><tr><td><div class=\"dni-plaintext\">8</div></td><td><div class=\"dni-plaintext\">3.2</div></td><td><div class=\"dni-plaintext\">64445</div></td></tr><tr><td><div class=\"dni-plaintext\">9</div></td><td><div class=\"dni-plaintext\">3.7</div></td><td><div class=\"dni-plaintext\">57189</div></td></tr><tr><td><div class=\"dni-plaintext\">10</div></td><td><div class=\"dni-plaintext\">3.9</div></td><td><div class=\"dni-plaintext\">63218</div></td></tr><tr><td><div class=\"dni-plaintext\">11</div></td><td><div class=\"dni-plaintext\">4</div></td><td><div class=\"dni-plaintext\">55794</div></td></tr><tr><td><div class=\"dni-plaintext\">12</div></td><td><div class=\"dni-plaintext\">4</div></td><td><div class=\"dni-plaintext\">56957</div></td></tr><tr><td><div class=\"dni-plaintext\">13</div></td><td><div class=\"dni-plaintext\">4.1</div></td><td><div class=\"dni-plaintext\">57081</div></td></tr><tr><td><div class=\"dni-plaintext\">14</div></td><td><div class=\"dni-plaintext\">4.5</div></td><td><div class=\"dni-plaintext\">61111</div></td></tr><tr><td><div class=\"dni-plaintext\">15</div></td><td><div class=\"dni-plaintext\">4.9</div></td><td><div class=\"dni-plaintext\">67938</div></td></tr><tr><td><div class=\"dni-plaintext\">16</div></td><td><div class=\"dni-plaintext\">5.1</div></td><td><div class=\"dni-plaintext\">66029</div></td></tr><tr><td><div class=\"dni-plaintext\">17</div></td><td><div class=\"dni-plaintext\">5.3</div></td><td><div class=\"dni-plaintext\">83088</div></td></tr><tr><td><div class=\"dni-plaintext\">18</div></td><td><div class=\"dni-plaintext\">5.9</div></td><td><div class=\"dni-plaintext\">81363</div></td></tr><tr><td><div class=\"dni-plaintext\">19</div></td><td><div class=\"dni-plaintext\">6</div></td><td><div class=\"dni-plaintext\">93940</div></td></tr></tbody></table>"
      ]
     },
     "metadata": {},
     "output_type": "display_data"
    }
   ],
   "metadata": {
    "dotnet_interactive": {
     "language": "csharp"
    }
   }
  },
  {
   "cell_type": "code",
   "execution_count": null,
   "source": [
    "data.Description()"
   ],
   "outputs": [
    {
     "data": {
      "text/html": [
       "<table><thead><th><i>index</i></th><th>Description</th><th>yearsExperience</th><th>salary</th></thead><tbody><tr><td><div class=\"dni-plaintext\">0</div></td><td>Length (excluding null values)</td><td><div class=\"dni-plaintext\">30</div></td><td><div class=\"dni-plaintext\">30</div></td></tr><tr><td><div class=\"dni-plaintext\">1</div></td><td>Max</td><td><div class=\"dni-plaintext\">10.5</div></td><td><div class=\"dni-plaintext\">122391</div></td></tr><tr><td><div class=\"dni-plaintext\">2</div></td><td>Min</td><td><div class=\"dni-plaintext\">1.1</div></td><td><div class=\"dni-plaintext\">37731</div></td></tr><tr><td><div class=\"dni-plaintext\">3</div></td><td>Mean</td><td><div class=\"dni-plaintext\">5.3133335</div></td><td><div class=\"dni-plaintext\">76003</div></td></tr></tbody></table>"
      ]
     },
     "metadata": {},
     "output_type": "display_data"
    }
   ],
   "metadata": {
    "dotnet_interactive": {
     "language": "csharp"
    }
   }
  },
  {
   "cell_type": "code",
   "execution_count": null,
   "source": [
    "static T[] Shuffle<T>(T[] array)\r\n",
    "{\r\n",
    "    Random rand = new Random();\r\n",
    "    for (int i = 0; i < array.Length; i++)\r\n",
    "    {\r\n",
    "        int r = i + rand.Next(array.Length - i);\r\n",
    "        T temp = array[r];\r\n",
    "        array[r] = array[i];\r\n",
    "        array[i] = temp;\r\n",
    "    }\r\n",
    "    return array;\r\n",
    "}\r\n",
    "\r\n",
    "int[] randomIndices = Shuffle(Enumerable.Range(0, (int)data.Rows.Count).ToArray());\r\n",
    "int testSize = (int)(data.Rows.Count * .1);\r\n",
    "int[] trainRows = randomIndices[testSize..];\r\n",
    "int[] testRows = randomIndices[..testSize];\r\n",
    "\r\n",
    "DataFrame data_train = data[trainRows];\r\n",
    "DataFrame data_test = data[testRows];\r\n",
    "\r\n",
    "display(data_train.Rows.Count);\r\n",
    "display(data_test.Rows.Count);"
   ],
   "outputs": [
    {
     "data": {
      "text/html": [
       "<div class=\"dni-plaintext\">27</div>"
      ]
     },
     "metadata": {},
     "output_type": "display_data"
    },
    {
     "data": {
      "text/html": [
       "<div class=\"dni-plaintext\">3</div>"
      ]
     },
     "metadata": {},
     "output_type": "display_data"
    }
   ],
   "metadata": {
    "dotnet_interactive": {
     "language": "csharp"
    }
   }
  },
  {
   "cell_type": "markdown",
   "source": [
    "## Use ML.NET\n",
    "To use ML.NET, need to create instance of MLContext."
   ],
   "metadata": {}
  },
  {
   "cell_type": "code",
   "execution_count": null,
   "source": [
    "using Microsoft.ML;"
   ],
   "outputs": [],
   "metadata": {
    "dotnet_interactive": {
     "language": "csharp"
    }
   }
  },
  {
   "cell_type": "code",
   "execution_count": null,
   "source": [
    "var context = new MLContext();"
   ],
   "outputs": [],
   "metadata": {
    "dotnet_interactive": {
     "language": "csharp"
    }
   }
  },
  {
   "cell_type": "markdown",
   "source": [
    "## Create Pipeline"
   ],
   "metadata": {}
  },
  {
   "cell_type": "code",
   "execution_count": null,
   "source": [
    "#pragma warning disable CS1701\r\n",
    "var pipeline = context.Transforms.Concatenate(\"Features\", \"yearsExperience\")\r\n",
    "                .Append(context.Regression.Trainers.Sdca(labelColumnName: \"salary\"));"
   ],
   "outputs": [],
   "metadata": {
    "dotnet_interactive": {
     "language": "csharp"
    }
   }
  },
  {
   "cell_type": "markdown",
   "source": [
    "## Training"
   ],
   "metadata": {}
  },
  {
   "cell_type": "code",
   "execution_count": null,
   "source": [
    "ITransformer model = pipeline.Fit(data_train);"
   ],
   "outputs": [],
   "metadata": {
    "dotnet_interactive": {
     "language": "csharp"
    }
   }
  },
  {
   "cell_type": "markdown",
   "source": [
    "## Evaluate"
   ],
   "metadata": {}
  },
  {
   "cell_type": "code",
   "execution_count": null,
   "source": [
    "var testResults = model.Transform(data_test);\r\n",
    "\r\n",
    "var metrics = context.Regression.Evaluate(testResults, labelColumnName: \"salary\", scoreColumnName: \"Score\");"
   ],
   "outputs": [],
   "metadata": {
    "dotnet_interactive": {
     "language": "csharp"
    }
   }
  },
  {
   "cell_type": "code",
   "execution_count": null,
   "source": [
    "Console.WriteLine($\"*************************************************\");\r\n",
    "Console.WriteLine($\"*       Metrics for regression model      \");\r\n",
    "Console.WriteLine($\"*------------------------------------------------\");\r\n",
    "Console.WriteLine($\"*       LossFn:        {metrics.LossFunction:0.##}\");\r\n",
    "Console.WriteLine($\"*       R2 Score:      {metrics.RSquared:0.##}\");\r\n",
    "Console.WriteLine($\"*       Absolute loss: {metrics.MeanAbsoluteError:#.##}\");\r\n",
    "Console.WriteLine($\"*       Squared loss:  {metrics.MeanSquaredError:#.##}\");\r\n",
    "Console.WriteLine($\"*       RMS loss:      {metrics.RootMeanSquaredError:#.##}\");\r\n",
    "Console.WriteLine($\"*************************************************\");"
   ],
   "outputs": [
    {
     "data": {
      "text/plain": [
       "*************************************************\r\n"
      ]
     },
     "metadata": {},
     "output_type": "display_data"
    },
    {
     "data": {
      "text/plain": [
       "*       Metrics for regression model      \r\n"
      ]
     },
     "metadata": {},
     "output_type": "display_data"
    },
    {
     "data": {
      "text/plain": [
       "*------------------------------------------------\r\n"
      ]
     },
     "metadata": {},
     "output_type": "display_data"
    },
    {
     "data": {
      "text/plain": [
       "*       LossFn:        56625073.33\r\n"
      ]
     },
     "metadata": {},
     "output_type": "display_data"
    },
    {
     "data": {
      "text/plain": [
       "*       R2 Score:      0.89\r\n"
      ]
     },
     "metadata": {},
     "output_type": "display_data"
    },
    {
     "data": {
      "text/plain": [
       "*       Absolute loss: 7453.15\r\n"
      ]
     },
     "metadata": {},
     "output_type": "display_data"
    },
    {
     "data": {
      "text/plain": [
       "*       Squared loss:  56625074\r\n"
      ]
     },
     "metadata": {},
     "output_type": "display_data"
    },
    {
     "data": {
      "text/plain": [
       "*       RMS loss:      7524.96\r\n"
      ]
     },
     "metadata": {},
     "output_type": "display_data"
    },
    {
     "data": {
      "text/plain": [
       "*************************************************\r\n"
      ]
     },
     "metadata": {},
     "output_type": "display_data"
    }
   ],
   "metadata": {
    "dotnet_interactive": {
     "language": "csharp"
    }
   }
  },
  {
   "cell_type": "code",
   "execution_count": null,
   "source": [
    "private static readonly string MODEL_NAME = \"model.onnx\";"
   ],
   "outputs": [],
   "metadata": {
    "dotnet_interactive": {
     "language": "csharp"
    }
   }
  },
  {
   "cell_type": "markdown",
   "source": [
    "## Save ONNX Model"
   ],
   "metadata": {}
  },
  {
   "cell_type": "code",
   "execution_count": null,
   "source": [
    "using System.IO;\r\n",
    "\r\n",
    "using (var stream = File.Create(MODEL_NAME))\r\n",
    "{\r\n",
    "    context.Model.ConvertToOnnx(model, data, stream);\r\n",
    "}"
   ],
   "outputs": [],
   "metadata": {
    "dotnet_interactive": {
     "language": "csharp"
    }
   }
  },
  {
   "cell_type": "markdown",
   "source": [
    "## Fill in Input Data\n",
    "\n",
    "![ONNX Netron Image](onnx-netron.PNG)"
   ],
   "metadata": {}
  },
  {
   "cell_type": "markdown",
   "source": [
    "### That's all folks!"
   ],
   "metadata": {}
  },
  {
   "cell_type": "markdown",
   "source": [],
   "metadata": {}
  }
 ],
 "metadata": {
  "kernelspec": {
   "display_name": ".NET (C#)",
   "language": "C#",
   "name": ".net-csharp"
  },
  "language_info": {
   "file_extension": ".cs",
   "mimetype": "text/x-csharp",
   "name": "C#",
   "pygments_lexer": "csharp",
   "version": "8.0"
  }
 },
 "nbformat": 4,
 "nbformat_minor": 4
}