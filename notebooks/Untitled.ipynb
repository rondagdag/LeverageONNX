{
 "cells": [
  {
   "cell_type": "code",
   "execution_count": null,
   "id": "northern-queens",
   "metadata": {},
   "outputs": [],
   "source": [
    "Console.WriteLine(\"Hello\");"
   ]
  },
  {
   "cell_type": "code",
   "execution_count": null,
   "id": "concrete-paper",
   "metadata": {},
   "outputs": [],
   "source": []
  }
 ],
 "metadata": {
  "kernelspec": {
   "display_name": ".NET (C#)",
   "language": "C#",
   "name": ".net-csharp"
  },
  "language_info": {
   "name": ""
  }
 },
 "nbformat": 4,
 "nbformat_minor": 5
}
