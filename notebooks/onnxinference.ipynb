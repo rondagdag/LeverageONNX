{
 "cells": [
  {
   "cell_type": "code",
   "execution_count": 5,
   "source": [
    "!pip install onnxruntime"
   ],
   "outputs": [
    {
     "output_type": "stream",
     "name": "stdout",
     "text": [
      "Collecting onnxruntime\n",
      "  Downloading onnxruntime-1.8.1-cp38-cp38-win_amd64.whl (4.7 MB)\n",
      "Collecting flatbuffers\n",
      "  Downloading flatbuffers-2.0-py2.py3-none-any.whl (26 kB)\n",
      "Requirement already satisfied: numpy>=1.16.6 in c:\\tools\\anaconda3\\lib\\site-packages (from onnxruntime) (1.20.1)\n",
      "Collecting protobuf\n",
      "  Downloading protobuf-3.17.3-cp38-cp38-win_amd64.whl (909 kB)\n",
      "Requirement already satisfied: six>=1.9 in c:\\tools\\anaconda3\\lib\\site-packages (from protobuf->onnxruntime) (1.15.0)\n",
      "Installing collected packages: protobuf, flatbuffers, onnxruntime\n",
      "Successfully installed flatbuffers-2.0 onnxruntime-1.8.1 protobuf-3.17.3\n"
     ]
    },
    {
     "output_type": "stream",
     "name": "stderr",
     "text": [
      "  WARNING: The script onnxruntime_test.exe is installed in 'C:\\tools\\Anaconda3\\Scripts' which is not on PATH.\n",
      "  Consider adding this directory to PATH or, if you prefer to suppress this warning, use --no-warn-script-location.\n"
     ]
    }
   ],
   "metadata": {}
  },
  {
   "cell_type": "code",
   "execution_count": 6,
   "source": [
    "import onnxruntime as rt\r\n",
    "import numpy as np"
   ],
   "outputs": [],
   "metadata": {
    "dotnet_interactive": {
     "language": "csharp"
    }
   }
  },
  {
   "cell_type": "code",
   "execution_count": 13,
   "source": [
    "sess = rt.InferenceSession(\"model.onnx\")\r\n"
   ],
   "outputs": [],
   "metadata": {
    "dotnet_interactive": {
     "language": "csharp"
    }
   }
  },
  {
   "cell_type": "markdown",
   "source": [
    "![ONNX Netron Image](onnx-netron.PNG)"
   ],
   "metadata": {}
  },
  {
   "cell_type": "code",
   "execution_count": 19,
   "source": [
    "input_yearsExperience = sess.get_inputs()[0].name\r\n",
    "print(\"input name\", input_yearsExperience)\r\n",
    "input_shape = sess.get_inputs()[0].shape\r\n",
    "print(\"input shape\", input_shape)\r\n",
    "input_type = sess.get_inputs()[0].type\r\n",
    "print(\"input type\", input_type)"
   ],
   "outputs": [
    {
     "output_type": "stream",
     "name": "stdout",
     "text": [
      "input name yearsExperience\n",
      "input shape [None, 1]\n",
      "input type tensor(float)\n"
     ]
    }
   ],
   "metadata": {
    "dotnet_interactive": {
     "language": "csharp"
    }
   }
  },
  {
   "cell_type": "code",
   "execution_count": 20,
   "source": [
    "input_salary = sess.get_inputs()[1].name\r\n",
    "print(\"input name\", input_salary)\r\n",
    "input_shape = sess.get_inputs()[1].shape\r\n",
    "print(\"input shape\", input_shape)\r\n",
    "input_type = sess.get_inputs()[1].type\r\n",
    "print(\"input type\", input_type)"
   ],
   "outputs": [
    {
     "output_type": "stream",
     "name": "stdout",
     "text": [
      "input name salary\n",
      "input shape [None, 1]\n",
      "input type tensor(float)\n"
     ]
    }
   ],
   "metadata": {
    "dotnet_interactive": {
     "language": "csharp"
    }
   }
  },
  {
   "cell_type": "code",
   "execution_count": 21,
   "source": [
    "output_name = sess.get_outputs()[4].name\r\n",
    "print(\"output name\", output_name)\r\n",
    "output_shape = sess.get_outputs()[4].shape\r\n",
    "print(\"output shape\", output_shape)\r\n",
    "output_type = sess.get_outputs()[4].type\r\n",
    "print(\"output type\", output_type)"
   ],
   "outputs": [
    {
     "output_type": "stream",
     "name": "stdout",
     "text": [
      "output name Score.output\n",
      "output shape [None, 1]\n",
      "output type tensor(float)\n"
     ]
    }
   ],
   "metadata": {
    "dotnet_interactive": {
     "language": "csharp"
    }
   }
  },
  {
   "cell_type": "code",
   "execution_count": 22,
   "source": [
    "years = np.array([[2.5]], dtype=np.float32)\r\n",
    "salary = np.array([[0]], dtype=np.float32)\r\n",
    "res = sess.run([output_name], {input_yearsExperience: years,  input_salary:salary })\r\n",
    "res"
   ],
   "outputs": [
    {
     "output_type": "execute_result",
     "data": {
      "text/plain": [
       "[array([[50045.047]], dtype=float32)]"
      ]
     },
     "metadata": {},
     "execution_count": 22
    }
   ],
   "metadata": {
    "dotnet_interactive": {
     "language": "csharp"
    }
   }
  },
  {
   "cell_type": "code",
   "execution_count": 23,
   "source": [
    "res[0][0][0]"
   ],
   "outputs": [
    {
     "output_type": "execute_result",
     "data": {
      "text/plain": [
       "50045.047"
      ]
     },
     "metadata": {},
     "execution_count": 23
    }
   ],
   "metadata": {
    "dotnet_interactive": {
     "language": "csharp"
    }
   }
  },
  {
   "cell_type": "code",
   "execution_count": null,
   "source": [],
   "outputs": [],
   "metadata": {
    "dotnet_interactive": {
     "language": "csharp"
    }
   }
  }
 ],
 "metadata": {
  "kernelspec": {
   "display_name": ".NET (C#)",
   "language": "C#",
   "name": ".net-csharp"
  },
  "language_info": {
   "file_extension": ".cs",
   "mimetype": "text/x-csharp",
   "name": "C#",
   "pygments_lexer": "csharp",
   "version": "9.0"
  }
 },
 "nbformat": 4,
 "nbformat_minor": 4
}