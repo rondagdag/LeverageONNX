{
 "cells": [
  {
   "cell_type": "code",
   "execution_count": 1,
   "source": [
    "!pip install onnxruntime"
   ],
   "outputs": [
    {
     "output_type": "stream",
     "name": "stdout",
     "text": [
      "Requirement already satisfied: onnxruntime in c:\\users\\rondagdag\\appdata\\local\\packages\\pythonsoftwarefoundation.python.3.9_qbz5n2kfra8p0\\localcache\\local-packages\\python39\\site-packages (1.8.1)\n",
      "Requirement already satisfied: numpy>=1.16.6 in c:\\users\\rondagdag\\appdata\\local\\packages\\pythonsoftwarefoundation.python.3.9_qbz5n2kfra8p0\\localcache\\local-packages\\python39\\site-packages (from onnxruntime) (1.21.0)\n",
      "Requirement already satisfied: protobuf in c:\\users\\rondagdag\\appdata\\local\\packages\\pythonsoftwarefoundation.python.3.9_qbz5n2kfra8p0\\localcache\\local-packages\\python39\\site-packages (from onnxruntime) (3.17.3)\n",
      "Requirement already satisfied: flatbuffers in c:\\users\\rondagdag\\appdata\\local\\packages\\pythonsoftwarefoundation.python.3.9_qbz5n2kfra8p0\\localcache\\local-packages\\python39\\site-packages (from onnxruntime) (2.0)\n",
      "Requirement already satisfied: six>=1.9 in c:\\users\\rondagdag\\appdata\\local\\packages\\pythonsoftwarefoundation.python.3.9_qbz5n2kfra8p0\\localcache\\local-packages\\python39\\site-packages (from protobuf->onnxruntime) (1.16.0)\n"
     ]
    }
   ],
   "metadata": {
    "dotnet_interactive": {
     "language": "csharp"
    }
   }
  },
  {
   "cell_type": "code",
   "execution_count": 2,
   "source": [
    "import onnxruntime as rt\r\n",
    "import numpy as np"
   ],
   "outputs": [],
   "metadata": {
    "dotnet_interactive": {
     "language": "csharp"
    }
   }
  },
  {
   "cell_type": "code",
   "execution_count": 3,
   "source": [
    "sess = rt.InferenceSession(\"model.onnx\")\r\n"
   ],
   "outputs": [],
   "metadata": {
    "dotnet_interactive": {
     "language": "csharp"
    }
   }
  },
  {
   "cell_type": "markdown",
   "source": [
    "![ONNX Netron Image](onnx-netron.PNG)"
   ],
   "metadata": {}
  },
  {
   "cell_type": "code",
   "execution_count": 4,
   "source": [
    "input_yearsExperience = sess.get_inputs()[0].name\r\n",
    "print(\"input name\", input_yearsExperience)\r\n",
    "input_shape = sess.get_inputs()[0].shape\r\n",
    "print(\"input shape\", input_shape)\r\n",
    "input_type = sess.get_inputs()[0].type\r\n",
    "print(\"input type\", input_type)"
   ],
   "outputs": [
    {
     "output_type": "stream",
     "name": "stdout",
     "text": [
      "input name yearsExperience\n",
      "input shape [None, 1]\n",
      "input type tensor(float)\n"
     ]
    }
   ],
   "metadata": {
    "dotnet_interactive": {
     "language": "csharp"
    }
   }
  },
  {
   "cell_type": "code",
   "execution_count": 5,
   "source": [
    "input_salary = sess.get_inputs()[1].name\r\n",
    "print(\"input name\", input_salary)\r\n",
    "input_shape = sess.get_inputs()[1].shape\r\n",
    "print(\"input shape\", input_shape)\r\n",
    "input_type = sess.get_inputs()[1].type\r\n",
    "print(\"input type\", input_type)"
   ],
   "outputs": [
    {
     "output_type": "stream",
     "name": "stdout",
     "text": [
      "input name salary\n",
      "input shape [None, 1]\n",
      "input type tensor(float)\n"
     ]
    }
   ],
   "metadata": {
    "dotnet_interactive": {
     "language": "csharp"
    }
   }
  },
  {
   "cell_type": "code",
   "execution_count": 6,
   "source": [
    "output_name = sess.get_outputs()[4].name\r\n",
    "print(\"output name\", output_name)\r\n",
    "output_shape = sess.get_outputs()[4].shape\r\n",
    "print(\"output shape\", output_shape)\r\n",
    "output_type = sess.get_outputs()[4].type\r\n",
    "print(\"output type\", output_type)"
   ],
   "outputs": [
    {
     "output_type": "stream",
     "name": "stdout",
     "text": [
      "output name Score.output\n",
      "output shape [None, 1]\n",
      "output type tensor(float)\n"
     ]
    }
   ],
   "metadata": {
    "dotnet_interactive": {
     "language": "csharp"
    }
   }
  },
  {
   "cell_type": "code",
   "execution_count": 10,
   "source": [
    "years = np.array([[2.5]], dtype=np.float32)\r\n",
    "salary = np.array([[0]], dtype=np.float32)\r\n",
    "res = sess.run([output_name], {input_yearsExperience: years,  input_salary:salary })\r\n",
    "res"
   ],
   "outputs": [
    {
     "output_type": "execute_result",
     "data": {
      "text/plain": [
       "[array([[48377.12]], dtype=float32)]"
      ]
     },
     "metadata": {},
     "execution_count": 10
    }
   ],
   "metadata": {
    "dotnet_interactive": {
     "language": "csharp"
    }
   }
  },
  {
   "cell_type": "code",
   "execution_count": 8,
   "source": [
    "res[0][0][0]"
   ],
   "outputs": [
    {
     "output_type": "execute_result",
     "data": {
      "text/plain": [
       "48377.12"
      ]
     },
     "metadata": {},
     "execution_count": 8
    }
   ],
   "metadata": {
    "dotnet_interactive": {
     "language": "csharp"
    }
   }
  },
  {
   "cell_type": "code",
   "execution_count": null,
   "source": [],
   "outputs": [],
   "metadata": {
    "dotnet_interactive": {
     "language": "csharp"
    }
   }
  }
 ],
 "metadata": {
  "kernelspec": {
   "name": "python3",
   "display_name": "Python 3.9.7 64-bit (windows store)"
  },
  "language_info": {
   "name": "python",
   "version": "3.9.7",
   "mimetype": "text/x-python",
   "codemirror_mode": {
    "name": "ipython",
    "version": 3
   },
   "pygments_lexer": "ipython3",
   "nbconvert_exporter": "python",
   "file_extension": ".py"
  },
  "interpreter": {
   "hash": "f56e04445257e8c03737cd64c0fcaf6c726181bea6d5974db6823b1c6c4ad412"
  }
 },
 "nbformat": 4,
 "nbformat_minor": 4
}