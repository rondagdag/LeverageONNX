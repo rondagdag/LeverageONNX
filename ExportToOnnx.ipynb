{
 "cells": [
  {
   "cell_type": "code",
   "execution_count": 20,
   "metadata": {},
   "outputs": [
    {
     "data": {
      "text/html": [
       "Installed package Microsoft.ML.OnnxTransformer version 1.4.0"
      ]
     },
     "metadata": {},
     "output_type": "display_data"
    },
    {
     "data": {
      "text/html": [
       "Installed package Microsoft.ML version 1.4.0"
      ]
     },
     "metadata": {},
     "output_type": "display_data"
    },
    {
     "data": {
      "text/html": [
       "Installed package Microsoft.ML.OnnxConverter version 0.16.0"
      ]
     },
     "metadata": {},
     "output_type": "display_data"
    },
    {
     "data": {
      "text/html": [
       "Installed package Microsoft.ML.OnnxRuntime version 1.1.0"
      ]
     },
     "metadata": {},
     "output_type": "display_data"
    },
    {
     "data": {
      "text/html": [
       "Installed package Microsoft.Data.Analysis version 0.3.0"
      ]
     },
     "metadata": {},
     "output_type": "display_data"
    }
   ],
   "source": [
    "#r \"nuget:Microsoft.ML,1.4.0\"\n",
    "#r \"nuget:Microsoft.Data.Analysis,0.3.0\"\n",
    "#r \"nuget:Microsoft.ML.OnnxTransformer,1.4.0\"\n",
    "#r \"nuget:Microsoft.ML.OnnxConverter,0.16.0\"\n",
    "#r \"nuget:Microsoft.ML.OnnxRuntime,1.1.0\""
   ]
  },
  {
   "cell_type": "code",
   "execution_count": 21,
   "metadata": {},
   "outputs": [],
   "source": [
    "using System.IO;\n",
    "using Microsoft.Data.Analysis;\n",
    "using XPlot.Plotly;"
   ]
  },
  {
   "cell_type": "code",
   "execution_count": 22,
   "metadata": {},
   "outputs": [],
   "source": [
    "using Microsoft.AspNetCore.Html;\n",
    "Formatter<DataFrame>.Register((df, writer) =>\n",
    "{\n",
    "    var headers = new List<IHtmlContent>();\n",
    "    headers.Add(th(i(\"index\")));\n",
    "    headers.AddRange(df.Columns.Select(c => (IHtmlContent) th(c.Name)));\n",
    "    var rows = new List<List<IHtmlContent>>();\n",
    "    var take = 20;\n",
    "    for (var i = 0; i < Math.Min(take, df.Rows.Count); i++)\n",
    "    {\n",
    "        var cells = new List<IHtmlContent>();\n",
    "        cells.Add(td(i));\n",
    "        foreach (var obj in df.Rows[i])\n",
    "        {\n",
    "            cells.Add(td(obj));\n",
    "        }\n",
    "        rows.Add(cells);\n",
    "    }\n",
    "\n",
    "    var t = table(\n",
    "        thead(\n",
    "            headers),\n",
    "        tbody(\n",
    "            rows.Select(\n",
    "                r => tr(r))));\n",
    "\n",
    "    writer.Write(t);\n",
    "}, \"text/html\");"
   ]
  },
  {
   "cell_type": "code",
   "execution_count": 23,
   "metadata": {},
   "outputs": [],
   "source": [
    "var data = DataFrame.LoadCsv(\"./SalaryData.csv\");"
   ]
  },
  {
   "cell_type": "code",
   "execution_count": 5,
   "metadata": {},
   "outputs": [
    {
     "data": {
      "text/html": [
       "<table><thead><th><i>index</i></th><th>yearsExperience</th><th>salary</th></thead><tbody><tr><td>0</td><td>1.1</td><td>39343</td></tr><tr><td>1</td><td>1.3</td><td>46205</td></tr><tr><td>2</td><td>1.5</td><td>37731</td></tr><tr><td>3</td><td>2</td><td>43525</td></tr><tr><td>4</td><td>2.2</td><td>39891</td></tr><tr><td>5</td><td>2.9</td><td>56642</td></tr><tr><td>6</td><td>3</td><td>60150</td></tr><tr><td>7</td><td>3.2</td><td>54445</td></tr><tr><td>8</td><td>3.2</td><td>64445</td></tr><tr><td>9</td><td>3.7</td><td>57189</td></tr><tr><td>10</td><td>3.9</td><td>63218</td></tr><tr><td>11</td><td>4</td><td>55794</td></tr><tr><td>12</td><td>4</td><td>56957</td></tr><tr><td>13</td><td>4.1</td><td>57081</td></tr><tr><td>14</td><td>4.5</td><td>61111</td></tr><tr><td>15</td><td>4.9</td><td>67938</td></tr><tr><td>16</td><td>5.1</td><td>66029</td></tr><tr><td>17</td><td>5.3</td><td>83088</td></tr><tr><td>18</td><td>5.9</td><td>81363</td></tr><tr><td>19</td><td>6</td><td>93940</td></tr></tbody></table>"
      ]
     },
     "execution_count": 5,
     "metadata": {},
     "output_type": "execute_result"
    }
   ],
   "source": [
    "data"
   ]
  },
  {
   "cell_type": "code",
   "execution_count": 24,
   "metadata": {},
   "outputs": [
    {
     "data": {
      "text/html": [
       "<table><thead><th><i>index</i></th><th>Description</th><th>yearsExperience</th><th>salary</th></thead><tbody><tr><td>0</td><td>Length (excluding null values)</td><td>30</td><td>30</td></tr><tr><td>1</td><td>Max</td><td>10.5</td><td>122391</td></tr><tr><td>2</td><td>Min</td><td>1.1</td><td>37731</td></tr><tr><td>3</td><td>Mean</td><td>5.3133335</td><td>76003</td></tr></tbody></table>"
      ]
     },
     "execution_count": 24,
     "metadata": {},
     "output_type": "execute_result"
    }
   ],
   "source": [
    "data.Description()"
   ]
  },
  {
   "cell_type": "code",
   "execution_count": 25,
   "metadata": {},
   "outputs": [
    {
     "data": {
      "text/html": [
       "27"
      ]
     },
     "metadata": {},
     "output_type": "display_data"
    },
    {
     "data": {
      "text/html": [
       "3"
      ]
     },
     "metadata": {},
     "output_type": "display_data"
    }
   ],
   "source": [
    "static T[] Shuffle<T>(T[] array)\n",
    "{\n",
    "    Random rand = new Random();\n",
    "    for (int i = 0; i < array.Length; i++)\n",
    "    {\n",
    "        int r = i + rand.Next(array.Length - i);\n",
    "        T temp = array[r];\n",
    "        array[r] = array[i];\n",
    "        array[i] = temp;\n",
    "    }\n",
    "    return array;\n",
    "}\n",
    "\n",
    "int[] randomIndices = Shuffle(Enumerable.Range(0, (int)data.Rows.Count).ToArray());\n",
    "int testSize = (int)(data.Rows.Count * .1);\n",
    "int[] trainRows = randomIndices[testSize..];\n",
    "int[] testRows = randomIndices[..testSize];\n",
    "\n",
    "DataFrame data_train = data[trainRows];\n",
    "DataFrame data_test = data[testRows];\n",
    "\n",
    "display(data_train.Rows.Count);\n",
    "display(data_test.Rows.Count);"
   ]
  },
  {
   "cell_type": "code",
   "execution_count": 8,
   "metadata": {},
   "outputs": [],
   "source": [
    "using Microsoft.ML;"
   ]
  },
  {
   "cell_type": "code",
   "execution_count": 9,
   "metadata": {},
   "outputs": [],
   "source": [
    "var context = new MLContext();"
   ]
  },
  {
   "cell_type": "markdown",
   "metadata": {},
   "source": [
    "###Create Pipeline"
   ]
  },
  {
   "cell_type": "code",
   "execution_count": 26,
   "metadata": {},
   "outputs": [],
   "source": [
    "var pipeline = context.Transforms.Concatenate(\"Features\", \"yearsExperience\")\n",
    "                .Append(context.Regression.Trainers.Sdca(labelColumnName: \"salary\"));"
   ]
  },
  {
   "cell_type": "code",
   "execution_count": 27,
   "metadata": {},
   "outputs": [],
   "source": [
    "ITransformer model = pipeline.Fit(data_train);"
   ]
  },
  {
   "cell_type": "code",
   "execution_count": 28,
   "metadata": {},
   "outputs": [],
   "source": [
    "var testResults = model.Transform(data_test);\n",
    "\n",
    "var metrics = context.Regression.Evaluate(testResults, labelColumnName: \"salary\", scoreColumnName: \"Score\");"
   ]
  },
  {
   "cell_type": "code",
   "execution_count": 29,
   "metadata": {},
   "outputs": [
    {
     "name": "stdout",
     "output_type": "stream",
     "text": [
      "*************************************************\n",
      "*       Metrics for regression model      \n",
      "*------------------------------------------------\n",
      "*       LossFn:        34047799\n",
      "*       R2 Score:      0.94\n",
      "*       Absolute loss: 5667.39\n",
      "*       Squared loss:  34047799.12\n",
      "*       RMS loss:      5835.05\n",
      "*************************************************\n"
     ]
    }
   ],
   "source": [
    "Console.WriteLine($\"*************************************************\");\n",
    "Console.WriteLine($\"*       Metrics for regression model      \");\n",
    "Console.WriteLine($\"*------------------------------------------------\");\n",
    "Console.WriteLine($\"*       LossFn:        {metrics.LossFunction:0.##}\");\n",
    "Console.WriteLine($\"*       R2 Score:      {metrics.RSquared:0.##}\");\n",
    "Console.WriteLine($\"*       Absolute loss: {metrics.MeanAbsoluteError:#.##}\");\n",
    "Console.WriteLine($\"*       Squared loss:  {metrics.MeanSquaredError:#.##}\");\n",
    "Console.WriteLine($\"*       RMS loss:      {metrics.RootMeanSquaredError:#.##}\");\n",
    "Console.WriteLine($\"*************************************************\");"
   ]
  },
  {
   "cell_type": "code",
   "execution_count": 30,
   "metadata": {},
   "outputs": [],
   "source": [
    "private static readonly string MODEL_NAME = \"model.onnx\";"
   ]
  },
  {
   "cell_type": "code",
   "execution_count": 31,
   "metadata": {},
   "outputs": [],
   "source": [
    "using System.IO;\n",
    "\n",
    "using (var stream = File.Create(MODEL_NAME))\n",
    "{\n",
    "    context.Model.ConvertToOnnx(model, data, stream);\n",
    "}"
   ]
  },
  {
   "cell_type": "code",
   "execution_count": 32,
   "metadata": {},
   "outputs": [],
   "source": [
    "using Microsoft.ML.OnnxRuntime;\n",
    "using Microsoft.ML.OnnxRuntime.Tensors;"
   ]
  },
  {
   "cell_type": "code",
   "execution_count": 33,
   "metadata": {},
   "outputs": [],
   "source": [
    "private static NamedOnnxValue GetNamedOnnxValue<T>(IReadOnlyDictionary<string, NodeMetadata> inputMeta, string column, T value)\n",
    "{\n",
    "    T[] inputDataInt = new T[] { value };\n",
    "    var tensor = new DenseTensor<T>(inputDataInt, inputMeta[column].Dimensions);\n",
    "    var namedOnnxValue = NamedOnnxValue.CreateFromTensor<T>(column, tensor);\n",
    "    return namedOnnxValue;\n",
    "}"
   ]
  },
  {
   "cell_type": "code",
   "execution_count": 34,
   "metadata": {},
   "outputs": [],
   "source": [
    "var session = new InferenceSession(MODEL_NAME);\n",
    "\n",
    "var inputMeta = session.InputMetadata;\n",
    "\n",
    "var container = new List<NamedOnnxValue>();\n",
    "container.Add(GetNamedOnnxValue<float>(inputMeta, \"yearsExperience\", 1.1f));\n",
    "container.Add(GetNamedOnnxValue<float>(inputMeta, \"salary\", 0f));\n"
   ]
  },
  {
   "cell_type": "code",
   "execution_count": 35,
   "metadata": {},
   "outputs": [
    {
     "name": "stdout",
     "output_type": "stream",
     "text": [
      "**********************************************************************\n",
      "Predicted salary: 37134.17, actual salary: 39343.0\n",
      "**********************************************************************\n"
     ]
    }
   ],
   "source": [
    "var result = session.Run(container);\n",
    "var output = session.Run(container).First(x => x.Name == \"Score0\").AsTensor<float>().Max();\n",
    "\n",
    "Console.WriteLine($\"**********************************************************************\");\n",
    "Console.WriteLine($\"Predicted salary: {output:0.####}, actual salary: 39343.0\");\n",
    "Console.WriteLine($\"**********************************************************************\");\n"
   ]
  },
  {
   "cell_type": "code",
   "execution_count": null,
   "metadata": {},
   "outputs": [],
   "source": []
  }
 ],
 "metadata": {
  "kernelspec": {
   "display_name": ".NET (C#)",
   "language": "C#",
   "name": ".net-csharp"
  },
  "language_info": {
   "file_extension": ".cs",
   "mimetype": "text/x-csharp",
   "name": "C#",
   "pygments_lexer": "csharp",
   "version": "8.0"
  }
 },
 "nbformat": 4,
 "nbformat_minor": 4
}
